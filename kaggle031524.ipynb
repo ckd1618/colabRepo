{
  "cells": [
    {
      "cell_type": "markdown",
      "metadata": {
        "id": "view-in-github",
        "colab_type": "text"
      },
      "source": [
        "<a href=\"https://colab.research.google.com/github/ckd1618/colabRepo/blob/main/kaggle031524.ipynb\" target=\"_parent\"><img src=\"https://colab.research.google.com/assets/colab-badge.svg\" alt=\"Open In Colab\"/></a>"
      ]
    },
    {
      "cell_type": "code",
      "execution_count": null,
      "id": "378c55ee",
      "metadata": {
        "id": "378c55ee"
      },
      "outputs": [],
      "source": [
        "#import pandas\n",
        "import pandas as pd"
      ]
    },
    {
      "cell_type": "code",
      "execution_count": null,
      "id": "1ea88399",
      "metadata": {
        "id": "1ea88399"
      },
      "outputs": [],
      "source": [
        "#create a dataframe\n",
        "pd.DataFrame({'Bob': ['I liked it.', 'It was awful.'],\n",
        "              'Sue': ['Pretty good.', 'Bland.']},\n",
        "             index=['Product A', 'Product B'])"
      ]
    },
    {
      "cell_type": "code",
      "execution_count": null,
      "id": "748602f9",
      "metadata": {
        "id": "748602f9"
      },
      "outputs": [],
      "source": [
        "#create a series\n",
        "#pd.Series([1, 2, 3, 4, 5])\n",
        "pd.Series([30, 35, 40], index=['2015 Sales', '2016 Sales', '2017 Sales'], name='Product A')"
      ]
    },
    {
      "cell_type": "code",
      "execution_count": null,
      "id": "7381105b",
      "metadata": {
        "id": "7381105b"
      },
      "outputs": [],
      "source": [
        "#read a csv\n",
        "wine_reviews = pd.read_csv(\"../input/wine-reviews/winemag-data-130k-v2.csv\")"
      ]
    },
    {
      "cell_type": "code",
      "execution_count": null,
      "id": "064af3f7",
      "metadata": {
        "id": "064af3f7"
      },
      "outputs": [],
      "source": [
        "#read the shape (rows and columns)\n",
        "wine_reviews.shape"
      ]
    },
    {
      "cell_type": "code",
      "execution_count": null,
      "id": "d1c69ff4",
      "metadata": {
        "id": "d1c69ff4"
      },
      "outputs": [],
      "source": [
        "#read the head\n",
        "wine_reviews.head()"
      ]
    },
    {
      "cell_type": "code",
      "execution_count": null,
      "id": "1445305a",
      "metadata": {
        "id": "1445305a"
      },
      "outputs": [],
      "source": [
        "#add index to the csv that you read\n",
        "wine_reviews = pd.read_csv(\"../input/wine-reviews/winemag-data-130k-v2.csv\", index_col=0)\n",
        "wine_reviews.head()"
      ]
    },
    {
      "cell_type": "code",
      "execution_count": null,
      "id": "4a885ad3",
      "metadata": {
        "id": "4a885ad3"
      },
      "outputs": [],
      "source": [
        "#SECTION 2 --------------------------------------------------"
      ]
    },
    {
      "cell_type": "code",
      "execution_count": null,
      "id": "d95ce556",
      "metadata": {
        "id": "d95ce556"
      },
      "outputs": [],
      "source": [
        "#read the csv, add indexes, print at max 5 rows:\n",
        "import pandas as pd\n",
        "reviews = pd.read_csv(\"../input/wine-reviews/winemag-data-130k-v2.csv\", index_col=0)\n",
        "pd.set_option('display.max_rows', 5)"
      ]
    },
    {
      "cell_type": "code",
      "execution_count": null,
      "id": "4733769e",
      "metadata": {
        "id": "4733769e"
      },
      "outputs": [],
      "source": [
        "#display reviews:\n",
        "reviews"
      ]
    },
    {
      "cell_type": "code",
      "execution_count": null,
      "id": "2076e5e0",
      "metadata": {
        "id": "2076e5e0"
      },
      "outputs": [],
      "source": [
        "#print out just the data for the column called country\n",
        "reviews.country\n",
        "#or\n",
        "#reviews['country providence']\n",
        "#or\n",
        "reviews['country'][0] #note that this is column first, then row\n",
        "#csv's in python are like a mirrored json"
      ]
    },
    {
      "cell_type": "code",
      "execution_count": null,
      "id": "19e7bf95",
      "metadata": {
        "id": "19e7bf95"
      },
      "outputs": [],
      "source": [
        "#grab the first row of the csv\n",
        "reviews.iloc[0] #note that this is row first, then column, so 0 is the row, and the unspecified column means it gets them all\n",
        "#to get all columns, you specify nothing, but to get all rows you specific nothing in a range [:,0]"
      ]
    },
    {
      "cell_type": "code",
      "execution_count": null,
      "id": "c17f53fa",
      "metadata": {
        "id": "c17f53fa"
      },
      "outputs": [],
      "source": [
        "#get all rows in a specific column:\n",
        "reviews.iloc[:,0]"
      ]
    },
    {
      "cell_type": "code",
      "execution_count": null,
      "id": "aab6a2be",
      "metadata": {
        "id": "aab6a2be"
      },
      "outputs": [],
      "source": [
        "#get the first 3 rows of the 0th column with iloc\n",
        "review.iloc[3,0] #essentially the first argument of 3 assumes the equivalent of 0:3"
      ]
    },
    {
      "cell_type": "code",
      "execution_count": null,
      "id": "fa3efb82",
      "metadata": {
        "id": "fa3efb82"
      },
      "outputs": [],
      "source": [
        "#select rows 0,1,2 from column 0:\n",
        "reviews[[0,1,2], 0] #if you want to specify specific rows rather than a range, you use a list"
      ]
    },
    {
      "cell_type": "code",
      "execution_count": null,
      "id": "1df1ec1a",
      "metadata": {
        "id": "1df1ec1a"
      },
      "outputs": [],
      "source": [
        "#use iloc to get the last five rows, with all their columns\n",
        "reviews.iloc[-5:] #notice that when you aren't passing in a second argument, you don't need to nest the array in another array"
      ]
    },
    {
      "cell_type": "code",
      "execution_count": null,
      "id": "9b387b07",
      "metadata": {
        "id": "9b387b07"
      },
      "outputs": [],
      "source": [
        "#use loc to get the 0th row in the country column:\n",
        "reviews.loc(0, 'country')"
      ]
    },
    {
      "cell_type": "code",
      "execution_count": null,
      "id": "83146971",
      "metadata": {
        "id": "83146971"
      },
      "outputs": [],
      "source": [
        "#use loc to get all the rows in 3 specific columns\n",
        "reviews.loc(:, ['taster_name', 'taster_twitter_handle', 'points'])\n",
        "#whenever you specify specific rows or columns, you must use an internal list"
      ]
    },
    {
      "cell_type": "code",
      "source": [
        "#range for rows: use : (blank : gets all the rows)\n",
        "#range for columns: not sure but (blank gets all the columns)\n",
        "#specific rows: [1,2,3] (both iloc and loc)\n",
        "#specific columns: ['food', 'nourishment', 'cheese']"
      ],
      "metadata": {
        "id": "HjLeooaUZE2x"
      },
      "id": "HjLeooaUZE2x",
      "execution_count": null,
      "outputs": []
    },
    {
      "cell_type": "code",
      "source": [
        "#how do you set the index?\n",
        "reviews.set_index(\"title\")\n",
        "#I dont actually know how this works"
      ],
      "metadata": {
        "id": "51aObGbzZFNA"
      },
      "id": "51aObGbzZFNA",
      "execution_count": null,
      "outputs": []
    },
    {
      "cell_type": "code",
      "source": [
        "#output the column country with all the rows, but have each cell be True/False if Italy\n",
        "reviews.country == 'Italy'"
      ],
      "metadata": {
        "id": "42wymY1UZFQK"
      },
      "id": "42wymY1UZFQK",
      "execution_count": null,
      "outputs": []
    },
    {
      "cell_type": "code",
      "source": [
        "#same thing but show the whole row, and only the rows where True (and display Italy instead of True)\n",
        "reviews.loc[reviews.country == 'Italy'] #this is basically a filter feature\n",
        "#now filter for 90 points as well as above\n",
        "reviews.loc[(reviews.country == 'Italy') & (reviews.points >= 90)]\n",
        "#now do or instead of and\n",
        "reviews.loc[(reviews.country == 'Italy') | (reviews.points >= 90)]"
      ],
      "metadata": {
        "id": "UYqy8MKxZFS5"
      },
      "id": "UYqy8MKxZFS5",
      "execution_count": null,
      "outputs": []
    },
    {
      "cell_type": "code",
      "source": [
        "#what if I want to select from a list of countries: Italy and France\n",
        "reviews.loc[revews.country.isin(['Italy', 'France'])]"
      ],
      "metadata": {
        "id": "Ua84Khd5ZFV6"
      },
      "id": "Ua84Khd5ZFV6",
      "execution_count": null,
      "outputs": []
    },
    {
      "cell_type": "code",
      "execution_count": null,
      "id": "3e910d06",
      "metadata": {
        "id": "3e910d06"
      },
      "outputs": [],
      "source": [
        "#find prices which are not null\n",
        "reviews.loc[reviews.price.notnull()]\n",
        "#find prices what are null\n",
        "reviews.loc[reviews.price.isnull()]"
      ]
    },
    {
      "cell_type": "code",
      "execution_count": null,
      "id": "b46f8aa6",
      "metadata": {
        "id": "b46f8aa6"
      },
      "outputs": [],
      "source": [
        "#assign a value to all rows in the critic column:\n",
        "reviews['critic'] = 'everyone'"
      ]
    },
    {
      "cell_type": "code",
      "source": [
        "#assign a number in reverse to the column 'index_backwards'\n",
        "reviews['index_backwards'] = range(len(reviews), 0, -1)"
      ],
      "metadata": {
        "id": "uAEXbj9CL7HU"
      },
      "id": "uAEXbj9CL7HU",
      "execution_count": null,
      "outputs": []
    },
    {
      "cell_type": "code",
      "execution_count": null,
      "id": "f06f1b67",
      "metadata": {
        "id": "f06f1b67"
      },
      "outputs": [],
      "source": [
        "# section 3------------------------------------------------------------"
      ]
    },
    {
      "cell_type": "code",
      "execution_count": null,
      "id": "5863f51e",
      "metadata": {
        "id": "5863f51e"
      },
      "outputs": [],
      "source": [
        "#how do you output the count, unique, top, freq of a column\n",
        "reviews.taster_name.describe()"
      ]
    },
    {
      "cell_type": "code",
      "execution_count": null,
      "id": "097cbc62",
      "metadata": {
        "id": "097cbc62"
      },
      "outputs": [],
      "source": [
        "#how to get the mean\n",
        "reviews.points.mean()"
      ]
    },
    {
      "cell_type": "code",
      "execution_count": null,
      "id": "461ec1b6",
      "metadata": {
        "id": "461ec1b6"
      },
      "outputs": [],
      "source": [
        "# how do you output an array of UNIQUE values found in a column's data\n",
        "reviews.taster_name.unique()"
      ]
    },
    {
      "cell_type": "code",
      "execution_count": null,
      "id": "2c59a9f9",
      "metadata": {
        "id": "2c59a9f9"
      },
      "outputs": [],
      "source": [
        "#how to generate a list of values and how often they occur for a column\n",
        "reviews.taster_name.value_counts()"
      ]
    },
    {
      "cell_type": "code",
      "source": [
        "#show how to pass a lambda into a map\n",
        "review_points_mean = reviews.points.mean()\n",
        "reviews.points.map(lambda p: p - review_points_mean)"
      ],
      "metadata": {
        "id": "n8LIqD5af5nW"
      },
      "id": "n8LIqD5af5nW",
      "execution_count": null,
      "outputs": []
    },
    {
      "cell_type": "code",
      "source": [
        "#9. How do you transform a whole DataFrame by calling a custom method on each row?\n",
        "def remean_points(row):\n",
        "  row.points = row.points - review_points_mean\n",
        "  return row\n",
        "reviews.apply(remean_points, axis='columns')\n"
      ],
      "metadata": {
        "id": "m7KC7DeXf501"
      },
      "id": "m7KC7DeXf501",
      "execution_count": null,
      "outputs": []
    },
    {
      "cell_type": "code",
      "source": [
        "#10. How do I limit the output of .head() which shows the first 5 rows\n",
        "reviews.head(1)"
      ],
      "metadata": {
        "id": "oKqmY7Quf532"
      },
      "id": "oKqmY7Quf532",
      "execution_count": null,
      "outputs": []
    },
    {
      "cell_type": "code",
      "source": [
        "#11. How do I subtract the mean from every row in a column?\n",
        "review_points_mean = reviews.points.mean()\n",
        "reviews.points - review_points_mean"
      ],
      "metadata": {
        "id": "7N-LlOBWf56c"
      },
      "id": "7N-LlOBWf56c",
      "execution_count": null,
      "outputs": []
    },
    {
      "cell_type": "code",
      "source": [
        "#12. How do I combine two rows into a single output row with a dash in between?\n",
        "reviews.country + \" - \" + reviews.region_1"
      ],
      "metadata": {
        "id": "32OXlyvY7XP2"
      },
      "id": "32OXlyvY7XP2",
      "execution_count": null,
      "outputs": []
    },
    {
      "cell_type": "code",
      "source": [
        "# section_4----------------------------------------------"
      ],
      "metadata": {
        "id": "Th6Wyb9Wf59E"
      },
      "id": "Th6Wyb9Wf59E",
      "execution_count": null,
      "outputs": []
    },
    {
      "cell_type": "code",
      "source": [
        "#what is another way to achieve value_counts() with groupby\n",
        "reviews.groupby('points').points.count()"
      ],
      "metadata": {
        "id": "HV2tbnArf5_s"
      },
      "id": "HV2tbnArf5_s",
      "execution_count": null,
      "outputs": []
    },
    {
      "cell_type": "code",
      "source": [
        "#show me how to get the cheapest wine in each point value category with groupby\n",
        "reviews.groupby('points').price.min()"
      ],
      "metadata": {
        "id": "EXZmDUFdf6CF"
      },
      "id": "EXZmDUFdf6CF",
      "execution_count": null,
      "outputs": []
    },
    {
      "cell_type": "code",
      "source": [
        "#4\n",
        "reviews.groupby('winery').apply(lambda df: df.title.iloc[0])"
      ],
      "metadata": {
        "id": "64ic9AlLf6E-"
      },
      "id": "64ic9AlLf6E-",
      "execution_count": null,
      "outputs": []
    },
    {
      "cell_type": "code",
      "source": [
        "#5\n",
        "reviews.groupby(['country', 'province']).apply(lambda df: df.loc[df.points.idxmax()])"
      ],
      "metadata": {
        "id": "Xz_bU9kWf6Hs"
      },
      "id": "Xz_bU9kWf6Hs",
      "execution_count": null,
      "outputs": []
    },
    {
      "cell_type": "code",
      "source": [
        "#6\n",
        "reviews.groupby(['country']).price.agg([len, min, max])"
      ],
      "metadata": {
        "id": "l-EWArnUf6KD"
      },
      "id": "l-EWArnUf6KD",
      "execution_count": null,
      "outputs": []
    },
    {
      "cell_type": "code",
      "source": [
        "#7\n",
        "countries_reviewed = reviews.groupby(['country', 'province']).description.agg([len])\n",
        "countries_reviewed"
      ],
      "metadata": {
        "id": "JCMr9fv2f6M6"
      },
      "id": "JCMr9fv2f6M6",
      "execution_count": null,
      "outputs": []
    },
    {
      "cell_type": "code",
      "source": [
        "#8\n",
        "countries_reviewed = reviews.groupby(['country', 'province']).description.agg([len])\n",
        "countries_reviewed"
      ],
      "metadata": {
        "id": "WlKmspbKf6Pk"
      },
      "id": "WlKmspbKf6Pk",
      "execution_count": null,
      "outputs": []
    },
    {
      "cell_type": "code",
      "source": [
        "#9\n",
        "countries_reviewed.reset_index()"
      ],
      "metadata": {
        "id": "eAVWFm4MPJb5"
      },
      "id": "eAVWFm4MPJb5",
      "execution_count": null,
      "outputs": []
    },
    {
      "cell_type": "code",
      "source": [
        "#10\n",
        "countries_reviewed = countries_reviewed.reset_index()\n",
        "countries_reviewed.sort_values(by='len')"
      ],
      "metadata": {
        "id": "gvQ_KtrvPJfC"
      },
      "id": "gvQ_KtrvPJfC",
      "execution_count": null,
      "outputs": []
    },
    {
      "cell_type": "code",
      "source": [
        "#11\n",
        "countries_reviewed.sort_values(by='len', ascending=False)"
      ],
      "metadata": {
        "id": "4Lcy7WU-PJhq"
      },
      "id": "4Lcy7WU-PJhq",
      "execution_count": null,
      "outputs": []
    },
    {
      "cell_type": "code",
      "source": [
        "#12\n",
        "countries_reviewed.sort_index()"
      ],
      "metadata": {
        "id": "WIVGP0ksPJkR"
      },
      "id": "WIVGP0ksPJkR",
      "execution_count": null,
      "outputs": []
    },
    {
      "cell_type": "code",
      "source": [
        "#13\n",
        "countries_reviewed.sort_values(by=['country', 'len'])"
      ],
      "metadata": {
        "id": "1_2MJBe3Pc8Z"
      },
      "id": "1_2MJBe3Pc8Z",
      "execution_count": null,
      "outputs": []
    },
    {
      "cell_type": "code",
      "source": [
        "#section 5-------------------------------------------"
      ],
      "metadata": {
        "id": "MQZFm1nWPJm6"
      },
      "id": "MQZFm1nWPJm6",
      "execution_count": null,
      "outputs": []
    },
    {
      "cell_type": "code",
      "source": [
        "#2\n",
        "reviews.price.dtype"
      ],
      "metadata": {
        "id": "JrI4ONISPJpl"
      },
      "id": "JrI4ONISPJpl",
      "execution_count": null,
      "outputs": []
    },
    {
      "cell_type": "code",
      "source": [
        "#3\n",
        "reviews.dtypes"
      ],
      "metadata": {
        "id": "6Z4QMPl9PJr-"
      },
      "id": "6Z4QMPl9PJr-",
      "execution_count": null,
      "outputs": []
    },
    {
      "cell_type": "code",
      "source": [
        "#4\n",
        "reviews.points.astype('float64')"
      ],
      "metadata": {
        "id": "5GQGanowPJuh"
      },
      "id": "5GQGanowPJuh",
      "execution_count": null,
      "outputs": []
    },
    {
      "cell_type": "code",
      "source": [
        "#5\n",
        "reviews.index.dtype"
      ],
      "metadata": {
        "id": "dWVEA6RSPulZ"
      },
      "id": "dWVEA6RSPulZ",
      "execution_count": null,
      "outputs": []
    },
    {
      "cell_type": "code",
      "source": [
        "#6\n",
        "reviews[pd.isnull(reviews.country)]"
      ],
      "metadata": {
        "id": "-ixsjDRZPuoI"
      },
      "id": "-ixsjDRZPuoI",
      "execution_count": null,
      "outputs": []
    },
    {
      "cell_type": "code",
      "source": [
        "#7\n",
        "reviews.region_2.fillna(\"Unknown\")"
      ],
      "metadata": {
        "id": "Egn140CoPuql"
      },
      "id": "Egn140CoPuql",
      "execution_count": null,
      "outputs": []
    },
    {
      "cell_type": "code",
      "source": [
        "#8\n",
        "reviews.taster_twitter_handle.replace(\"@kerinokeefe\", \"@kerino\")"
      ],
      "metadata": {
        "id": "naPIbxe1PutK"
      },
      "id": "naPIbxe1PutK",
      "execution_count": null,
      "outputs": []
    },
    {
      "cell_type": "code",
      "source": [
        "#section -----------------------------------------------------"
      ],
      "metadata": {
        "id": "Q4xdqSbIPuv1"
      },
      "id": "Q4xdqSbIPuv1",
      "execution_count": null,
      "outputs": []
    },
    {
      "cell_type": "code",
      "source": [
        "#2\n",
        "reviews.rename(columns={'points': 'score'})"
      ],
      "metadata": {
        "id": "i9f_V4qBPuyd"
      },
      "id": "i9f_V4qBPuyd",
      "execution_count": null,
      "outputs": []
    },
    {
      "cell_type": "code",
      "source": [
        "#3\n",
        "reviews.rename(index={0: 'firstEntry', 1: 'secondEntry'})"
      ],
      "metadata": {
        "id": "0XZFSPHcPu01"
      },
      "id": "0XZFSPHcPu01",
      "execution_count": null,
      "outputs": []
    },
    {
      "cell_type": "code",
      "source": [
        "#4\n",
        "reviews.rename_axis(\"wines\", axis='rows').rename_axis(\"fields\", axis='columns')"
      ],
      "metadata": {
        "id": "zqqs5EohPu3b"
      },
      "id": "zqqs5EohPu3b",
      "execution_count": null,
      "outputs": []
    },
    {
      "cell_type": "code",
      "source": [
        "#5\n",
        "canadian_youtube = pd.read_csv(\"../input/youtube-new/CAvideos.csv\")\n",
        "british_youtube = pd.read_csv(\"../input/youtube-new/GBvideos.csv\")\n",
        "\n",
        "pd.concat([canadian_youtube, british_youtube])"
      ],
      "metadata": {
        "id": "CxnHsvudPu6b"
      },
      "id": "CxnHsvudPu6b",
      "execution_count": null,
      "outputs": []
    },
    {
      "cell_type": "code",
      "source": [
        "#6\n",
        "left = canadian_youtube.set_index(['title', 'trending_date'])\n",
        "right = british_youtube.set_index(['title', 'trending_date'])\n",
        "\n",
        "left.join(right, lsuffix='_CAN', rsuffix='_UK')"
      ],
      "metadata": {
        "id": "yqfs0FLVPu9A"
      },
      "id": "yqfs0FLVPu9A",
      "execution_count": null,
      "outputs": []
    },
    {
      "cell_type": "code",
      "source": [],
      "metadata": {
        "id": "gfTkTM7IPvAZ"
      },
      "id": "gfTkTM7IPvAZ",
      "execution_count": null,
      "outputs": []
    },
    {
      "cell_type": "code",
      "source": [],
      "metadata": {
        "id": "EC91xTEFf6SM"
      },
      "id": "EC91xTEFf6SM",
      "execution_count": null,
      "outputs": []
    },
    {
      "cell_type": "code",
      "source": [],
      "metadata": {
        "id": "dsOE0FDkf6Ue"
      },
      "id": "dsOE0FDkf6Ue",
      "execution_count": null,
      "outputs": []
    }
  ],
  "metadata": {
    "kernelspec": {
      "display_name": "Python 3 (ipykernel)",
      "language": "python",
      "name": "python3"
    },
    "language_info": {
      "codemirror_mode": {
        "name": "ipython",
        "version": 3
      },
      "file_extension": ".py",
      "mimetype": "text/x-python",
      "name": "python",
      "nbconvert_exporter": "python",
      "pygments_lexer": "ipython3",
      "version": "3.9.13"
    },
    "colab": {
      "provenance": [],
      "include_colab_link": true
    }
  },
  "nbformat": 4,
  "nbformat_minor": 5
}