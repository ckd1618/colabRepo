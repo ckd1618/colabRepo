{
  "cells": [
    {
      "cell_type": "markdown",
      "metadata": {
        "id": "view-in-github",
        "colab_type": "text"
      },
      "source": [
        "<a href=\"https://colab.research.google.com/github/ckd1618/colabRepo/blob/main/kaggle031524.ipynb\" target=\"_parent\"><img src=\"https://colab.research.google.com/assets/colab-badge.svg\" alt=\"Open In Colab\"/></a>"
      ]
    },
    {
      "cell_type": "code",
      "execution_count": null,
      "id": "378c55ee",
      "metadata": {
        "id": "378c55ee"
      },
      "outputs": [],
      "source": [
        "#import pandas\n",
        "import pandas as pd"
      ]
    },
    {
      "cell_type": "code",
      "execution_count": null,
      "id": "1ea88399",
      "metadata": {
        "id": "1ea88399"
      },
      "outputs": [],
      "source": [
        "#create a dataframe\n",
        "pd.DataFrame({'Bob': ['I liked it.', 'It was awful.'],\n",
        "              'Sue': ['Pretty good.', 'Bland.']},\n",
        "             index=['Product A', 'Product B'])"
      ]
    },
    {
      "cell_type": "code",
      "execution_count": null,
      "id": "748602f9",
      "metadata": {
        "id": "748602f9"
      },
      "outputs": [],
      "source": [
        "#create a series\n",
        "#pd.Series([1, 2, 3, 4, 5])\n",
        "pd.Series([30, 35, 40], index=['2015 Sales', '2016 Sales', '2017 Sales'], name='Product A')"
      ]
    },
    {
      "cell_type": "code",
      "execution_count": null,
      "id": "7381105b",
      "metadata": {
        "id": "7381105b"
      },
      "outputs": [],
      "source": [
        "#read a csv\n",
        "wine_reviews = pd.read_csv(\"../input/wine-reviews/winemag-data-130k-v2.csv\")"
      ]
    },
    {
      "cell_type": "code",
      "execution_count": null,
      "id": "064af3f7",
      "metadata": {
        "id": "064af3f7"
      },
      "outputs": [],
      "source": [
        "#read the shape (rows and columns)\n",
        "wine_reviews.shape"
      ]
    },
    {
      "cell_type": "code",
      "execution_count": null,
      "id": "d1c69ff4",
      "metadata": {
        "id": "d1c69ff4"
      },
      "outputs": [],
      "source": [
        "#read the head\n",
        "wine_reviews.head()"
      ]
    },
    {
      "cell_type": "code",
      "execution_count": null,
      "id": "1445305a",
      "metadata": {
        "id": "1445305a"
      },
      "outputs": [],
      "source": [
        "#add index to the csv that you read\n",
        "wine_reviews = pd.read_csv(\"../input/wine-reviews/winemag-data-130k-v2.csv\", index_col=0)\n",
        "wine_reviews.head()"
      ]
    },
    {
      "cell_type": "code",
      "execution_count": null,
      "id": "4a885ad3",
      "metadata": {
        "id": "4a885ad3"
      },
      "outputs": [],
      "source": [
        "#SECTION 2 --------------------------------------------------"
      ]
    },
    {
      "cell_type": "code",
      "execution_count": null,
      "id": "d95ce556",
      "metadata": {
        "id": "d95ce556"
      },
      "outputs": [],
      "source": [
        "#read the csv, add indexes, print at max 5 rows:\n",
        "import pandas as pd\n",
        "reviews = pd.read_csv(\"../input/wine-reviews/winemag-data-130k-v2.csv\", index_col=0)\n",
        "pd.set_option('display.max_rows', 5)"
      ]
    },
    {
      "cell_type": "code",
      "execution_count": null,
      "id": "4733769e",
      "metadata": {
        "id": "4733769e"
      },
      "outputs": [],
      "source": [
        "#display reviews:\n",
        "reviews"
      ]
    },
    {
      "cell_type": "code",
      "execution_count": null,
      "id": "2076e5e0",
      "metadata": {
        "id": "2076e5e0"
      },
      "outputs": [],
      "source": [
        "#print out just the data for the column called country\n",
        "reviews.country\n",
        "#or\n",
        "#reviews['country providence']\n",
        "#or\n",
        "reviews['country'][0] #note that this is column first, then row\n",
        "#csv's in python are like a mirrored json"
      ]
    },
    {
      "cell_type": "code",
      "execution_count": null,
      "id": "19e7bf95",
      "metadata": {
        "id": "19e7bf95"
      },
      "outputs": [],
      "source": [
        "#grab the first row of the csv\n",
        "reviews.iloc[0] #note that this is row first, then column, so 0 is the row, and the unspecified column means it gets them all\n",
        "#to get all columns, you specify nothing, but to get all rows you specific nothing in a range [:,0]"
      ]
    },
    {
      "cell_type": "code",
      "execution_count": null,
      "id": "c17f53fa",
      "metadata": {
        "id": "c17f53fa"
      },
      "outputs": [],
      "source": [
        "#get all rows in a specific column:\n",
        "reviews.iloc[:,0]"
      ]
    },
    {
      "cell_type": "code",
      "execution_count": null,
      "id": "aab6a2be",
      "metadata": {
        "id": "aab6a2be"
      },
      "outputs": [],
      "source": [
        "#get the first 3 rows of the 0th column with iloc\n",
        "review.iloc[3,0] #essentially the first argument of 3 assumes the equivalent of 0:3"
      ]
    },
    {
      "cell_type": "code",
      "execution_count": null,
      "id": "fa3efb82",
      "metadata": {
        "id": "fa3efb82"
      },
      "outputs": [],
      "source": [
        "#select rows 0,1,2 from column 0:\n",
        "reviews[[0,1,2], 0] #if you want to specify specific rows rather than a range, you use a list"
      ]
    },
    {
      "cell_type": "code",
      "execution_count": null,
      "id": "1df1ec1a",
      "metadata": {
        "id": "1df1ec1a"
      },
      "outputs": [],
      "source": [
        "#use iloc to get the last five rows, with all their columns\n",
        "reviews.iloc[-5:] #notice that when you aren't passing in a second argument, you don't need to nest the array in another array"
      ]
    },
    {
      "cell_type": "code",
      "execution_count": null,
      "id": "9b387b07",
      "metadata": {
        "id": "9b387b07"
      },
      "outputs": [],
      "source": [
        "#asdf"
      ]
    },
    {
      "cell_type": "code",
      "execution_count": null,
      "id": "83146971",
      "metadata": {
        "id": "83146971"
      },
      "outputs": [],
      "source": []
    },
    {
      "cell_type": "code",
      "execution_count": null,
      "id": "3e910d06",
      "metadata": {
        "id": "3e910d06"
      },
      "outputs": [],
      "source": []
    },
    {
      "cell_type": "code",
      "execution_count": null,
      "id": "b46f8aa6",
      "metadata": {
        "id": "b46f8aa6"
      },
      "outputs": [],
      "source": []
    },
    {
      "cell_type": "code",
      "execution_count": null,
      "id": "f06f1b67",
      "metadata": {
        "id": "f06f1b67"
      },
      "outputs": [],
      "source": []
    },
    {
      "cell_type": "code",
      "execution_count": null,
      "id": "5863f51e",
      "metadata": {
        "id": "5863f51e"
      },
      "outputs": [],
      "source": []
    },
    {
      "cell_type": "code",
      "execution_count": null,
      "id": "097cbc62",
      "metadata": {
        "id": "097cbc62"
      },
      "outputs": [],
      "source": []
    },
    {
      "cell_type": "code",
      "execution_count": null,
      "id": "461ec1b6",
      "metadata": {
        "id": "461ec1b6"
      },
      "outputs": [],
      "source": []
    },
    {
      "cell_type": "code",
      "execution_count": null,
      "id": "2c59a9f9",
      "metadata": {
        "id": "2c59a9f9"
      },
      "outputs": [],
      "source": []
    }
  ],
  "metadata": {
    "kernelspec": {
      "display_name": "Python 3 (ipykernel)",
      "language": "python",
      "name": "python3"
    },
    "language_info": {
      "codemirror_mode": {
        "name": "ipython",
        "version": 3
      },
      "file_extension": ".py",
      "mimetype": "text/x-python",
      "name": "python",
      "nbconvert_exporter": "python",
      "pygments_lexer": "ipython3",
      "version": "3.9.13"
    },
    "colab": {
      "provenance": [],
      "include_colab_link": true
    }
  },
  "nbformat": 4,
  "nbformat_minor": 5
}